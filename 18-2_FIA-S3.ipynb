{
 "cells": [
  {
   "cell_type": "code",
   "execution_count": 165,
   "metadata": {},
   "outputs": [],
   "source": [
    "import pandas as pd"
   ]
  },
  {
   "cell_type": "markdown",
   "metadata": {},
   "source": [
    "## AF - Exercício: Organização de dados para aplicação de algoritmos de aprendizagem de máquina\n",
    "Bancos e operadoras de cartões de crédito estão entre os primeiros a usar a aprendizagem de máquina. Eles costumam usar a tecnologia para identificar fraudes, liberações e crédito, oferecer produtos, entre outros.\n",
    "Imagine que você foi contratado para implementar a análise de dados em um grande banco nacional. O objetivo deste é analisar os dados para conceder ou não crédito para os correntistas. Para tanto, é preciso analisar as principais características dos correntistas, como idade, profissão, estado civil, entre outras.\n",
    "\n",
    "A coleta de dados no machine learning é realizada a partir da união de diferentes fontes de dados (diferentes planilhas, bases em CSV, Json, SQL, entre outros) em uma única base de dados “minerável”.\n",
    "\n",
    "Neste caso, os dados foram coletados e enviados para você, mas estão todos bagunçados. O primeiro passo é determinar um padrão de organização para eles, sendo possível aplicar algoritmos de aprendizagem de máquina. Essa organização pode ser aplicada para unir diferentes fontes de dados."
   ]
  },
  {
   "cell_type": "markdown",
   "metadata": {},
   "source": [
    "### Obtendo os dados"
   ]
  },
  {
   "cell_type": "code",
   "execution_count": 166,
   "metadata": {},
   "outputs": [],
   "source": [
    "# Importando planilha excel disponibilizada e fazendo a transposição dele para um formato com os headers nas colunas \n",
    "# ao invés de linhas para facilitar a visualização.\n",
    "\n",
    "# Definindo um dataframe com o nome de df_xls.\n",
    "\n",
    "df_xls = pd.read_excel('1801_D0046_RA1_EXER01_REV.xlsx')\n",
    "df_xls = df_xls.set_index('Idade').transpose().rename_axis('Idade').rename_axis(None, 1).reset_index()"
   ]
  },
  {
   "cell_type": "markdown",
   "metadata": {},
   "source": [
    "### Acessando os dados"
   ]
  },
  {
   "cell_type": "markdown",
   "metadata": {},
   "source": [
    "Pelo fato do dataset ser pequeno fazer as avaliações sobre o que está errado visualmente."
   ]
  },
  {
   "cell_type": "code",
   "execution_count": 167,
   "metadata": {},
   "outputs": [
    {
     "data": {
      "text/html": [
       "<div>\n",
       "<style scoped>\n",
       "    .dataframe tbody tr th:only-of-type {\n",
       "        vertical-align: middle;\n",
       "    }\n",
       "\n",
       "    .dataframe tbody tr th {\n",
       "        vertical-align: top;\n",
       "    }\n",
       "\n",
       "    .dataframe thead th {\n",
       "        text-align: right;\n",
       "    }\n",
       "</style>\n",
       "<table border=\"1\" class=\"dataframe\">\n",
       "  <thead>\n",
       "    <tr style=\"text-align: right;\">\n",
       "      <th></th>\n",
       "      <th>Idade</th>\n",
       "      <th>Emprego</th>\n",
       "      <th>Estado civil</th>\n",
       "      <th>Escolaridade</th>\n",
       "      <th>nan</th>\n",
       "      <th>Saldo em conta</th>\n",
       "      <th>Casa própria</th>\n",
       "      <th>Empréstimos ativos</th>\n",
       "      <th>Contato</th>\n",
       "    </tr>\n",
       "  </thead>\n",
       "  <tbody>\n",
       "    <tr>\n",
       "      <th>3</th>\n",
       "      <td>47</td>\n",
       "      <td>blue-collar</td>\n",
       "      <td>casado</td>\n",
       "      <td>desconhecido</td>\n",
       "      <td>NaN</td>\n",
       "      <td>1506</td>\n",
       "      <td>sim</td>\n",
       "      <td>não</td>\n",
       "      <td>desconhecido</td>\n",
       "    </tr>\n",
       "    <tr>\n",
       "      <th>5</th>\n",
       "      <td>35</td>\n",
       "      <td>administrativo</td>\n",
       "      <td>casado</td>\n",
       "      <td>Ensino superior completo</td>\n",
       "      <td>NaN</td>\n",
       "      <td>231</td>\n",
       "      <td>sim</td>\n",
       "      <td>não</td>\n",
       "      <td>desconhecido</td>\n",
       "    </tr>\n",
       "    <tr>\n",
       "      <th>6</th>\n",
       "      <td>28</td>\n",
       "      <td>administrativo</td>\n",
       "      <td>solteiro</td>\n",
       "      <td>Ensino superior completo</td>\n",
       "      <td>NaN</td>\n",
       "      <td>447</td>\n",
       "      <td>sim</td>\n",
       "      <td>sim</td>\n",
       "      <td>desconhecido</td>\n",
       "    </tr>\n",
       "    <tr>\n",
       "      <th>2</th>\n",
       "      <td>33</td>\n",
       "      <td>empresário</td>\n",
       "      <td>casado</td>\n",
       "      <td>Ensino médio completo</td>\n",
       "      <td>NaN</td>\n",
       "      <td>2</td>\n",
       "      <td>sim</td>\n",
       "      <td>sim</td>\n",
       "      <td>desconhecido</td>\n",
       "    </tr>\n",
       "    <tr>\n",
       "      <th>8</th>\n",
       "      <td>58.1</td>\n",
       "      <td>aposentado</td>\n",
       "      <td>casado</td>\n",
       "      <td>Ensino fundamental completo</td>\n",
       "      <td>NaN</td>\n",
       "      <td>121</td>\n",
       "      <td>sim</td>\n",
       "      <td>não</td>\n",
       "      <td>desconhecido</td>\n",
       "    </tr>\n",
       "  </tbody>\n",
       "</table>\n",
       "</div>"
      ],
      "text/plain": [
       "  Idade         Emprego Estado civil                 Escolaridade  NaN  \\\n",
       "3    47     blue-collar       casado                 desconhecido  NaN   \n",
       "5    35  administrativo       casado     Ensino superior completo  NaN   \n",
       "6    28  administrativo     solteiro     Ensino superior completo  NaN   \n",
       "2    33      empresário       casado        Ensino médio completo  NaN   \n",
       "8  58.1      aposentado       casado  Ensino fundamental completo  NaN   \n",
       "\n",
       "  Saldo em conta Casa própria Empréstimos ativos       Contato  \n",
       "3           1506          sim                não  desconhecido  \n",
       "5            231          sim                não  desconhecido  \n",
       "6            447          sim                sim  desconhecido  \n",
       "2              2          sim                sim  desconhecido  \n",
       "8            121          sim                não  desconhecido  "
      ]
     },
     "execution_count": 167,
     "metadata": {},
     "output_type": "execute_result"
    }
   ],
   "source": [
    "df_xls.sample(5)"
   ]
  },
  {
   "cell_type": "code",
   "execution_count": 168,
   "metadata": {},
   "outputs": [
    {
     "name": "stdout",
     "output_type": "stream",
     "text": [
      "<class 'pandas.core.frame.DataFrame'>\n",
      "RangeIndex: 9 entries, 0 to 8\n",
      "Data columns (total 9 columns):\n",
      "Idade                 9 non-null object\n",
      "Emprego               9 non-null object\n",
      "Estado civil          9 non-null object\n",
      "Escolaridade          9 non-null object\n",
      "nan                   0 non-null object\n",
      "Saldo em conta        9 non-null object\n",
      "Casa própria          9 non-null object\n",
      "Empréstimos ativos    9 non-null object\n",
      "Contato               9 non-null object\n",
      "dtypes: object(9)\n",
      "memory usage: 728.0+ bytes\n"
     ]
    }
   ],
   "source": [
    "df_xls.info()"
   ]
  },
  {
   "cell_type": "markdown",
   "metadata": {},
   "source": [
    "##### Problemas de qualidade\n",
    "**arquivo excel - df_xls**\n",
    "- Campos `Idade`, e `Saldo em conta` definidos string;\n",
    "- Algumas `Idades` estão representados como floats;\n",
    "- Coluna `Contato` sem valores úteis."
   ]
  },
  {
   "cell_type": "markdown",
   "metadata": {},
   "source": [
    "##### Problemas de arrumação\n",
    "- Nomes das colunas com espaços e letras maiuscúlas.\n",
    "- Coluna com valores nulos em todas linhas"
   ]
  },
  {
   "cell_type": "markdown",
   "metadata": {},
   "source": [
    "### Limpando os dados"
   ]
  },
  {
   "cell_type": "code",
   "execution_count": 170,
   "metadata": {},
   "outputs": [],
   "source": [
    "# Realizando copia do dataframe\n",
    "df_xls_clear = df_xls.copy()\n",
    "numero_col_xls = df_xls.shape[1]"
   ]
  },
  {
   "cell_type": "markdown",
   "metadata": {},
   "source": [
    "###### Definir\n",
    "Coluna com valores nulos em todas linhas\n",
    "- remover coluna com valores nulos"
   ]
  },
  {
   "cell_type": "markdown",
   "metadata": {},
   "source": [
    "###### Codificar"
   ]
  },
  {
   "cell_type": "code",
   "execution_count": 171,
   "metadata": {},
   "outputs": [],
   "source": [
    "# Nota: axis=1 define que estamos atualizando as colunas, e não as linhas\n",
    "df_xls_clear = df_xls_clear.dropna(axis=1, how='all')"
   ]
  },
  {
   "cell_type": "markdown",
   "metadata": {},
   "source": [
    "###### Testar"
   ]
  },
  {
   "cell_type": "code",
   "execution_count": 172,
   "metadata": {},
   "outputs": [],
   "source": [
    "# Verificando se o número de colunas do data_frame limpo é 1 coluna menor que o original.\n",
    "numero_col_xls = df_xls.shape[1]\n",
    "assert df_xls_clear.shape[1] == numero_col_xls - 1"
   ]
  },
  {
   "cell_type": "markdown",
   "metadata": {},
   "source": [
    "###### Definir\n",
    "Nomes das colunas com espaços e letras maiuscúlas.\n",
    "- remover os espaços nos campos que estão nesta situação\n",
    "- padronizar todos os nomes de colunas em caixa baixa."
   ]
  },
  {
   "cell_type": "markdown",
   "metadata": {},
   "source": [
    "###### Codificar"
   ]
  },
  {
   "cell_type": "code",
   "execution_count": 173,
   "metadata": {},
   "outputs": [],
   "source": [
    "df_xls_clear.rename(columns=lambda x: x.replace(' ', '_'), inplace=True)\n",
    "df_xls_clear.rename(columns=lambda x: x.lower(), inplace=True)"
   ]
  },
  {
   "cell_type": "markdown",
   "metadata": {},
   "source": [
    "###### Testar"
   ]
  },
  {
   "cell_type": "code",
   "execution_count": 174,
   "metadata": {},
   "outputs": [],
   "source": [
    "# Testando cada coluna do dataframe e procura com um espaço, o 'contains' retorna uma strin de bools com os resultados. \n",
    "df_xls_clear.head(2)\n",
    "chk_array = df_xls_clear.columns.str.contains(' ')\n",
    "for item in chk_array:\n",
    "    assert item == False"
   ]
  },
  {
   "cell_type": "markdown",
   "metadata": {},
   "source": [
    "###### Definir"
   ]
  },
  {
   "cell_type": "markdown",
   "metadata": {},
   "source": [
    "campos `Idade` e `Saldo em conta` com tipos inválidos.<br>\n",
    "algumas `Idades` estão representados como floats;\n",
    "- `Idade` transformar em inteiro;\n",
    "- `Saldo em conta` transformar em float."
   ]
  },
  {
   "cell_type": "markdown",
   "metadata": {},
   "source": [
    "###### Codificar"
   ]
  },
  {
   "cell_type": "code",
   "execution_count": 175,
   "metadata": {},
   "outputs": [],
   "source": [
    "df_xls_clear.idade = df_xls_clear.idade.astype('float').astype('int')\n",
    "df_xls_clear.saldo_em_conta = df_xls_clear.saldo_em_conta.astype('float')"
   ]
  },
  {
   "cell_type": "markdown",
   "metadata": {},
   "source": [
    "###### Testar"
   ]
  },
  {
   "cell_type": "code",
   "execution_count": 176,
   "metadata": {},
   "outputs": [],
   "source": [
    "#Testando se os campos idade (int) e o saldo em conta (float) estão no novo formato.\n",
    "assert df_xls_clear['idade'].dtype.kind == 'i'\n",
    "assert df_xls_clear['saldo_em_conta'].dtype.kind == 'f'"
   ]
  },
  {
   "cell_type": "markdown",
   "metadata": {},
   "source": [
    "###### Definir\n",
    "Coluna `Contato` sem valores úteis.\n",
    "- remover coluna 'contato'"
   ]
  },
  {
   "cell_type": "markdown",
   "metadata": {},
   "source": [
    "###### Codificar"
   ]
  },
  {
   "cell_type": "code",
   "execution_count": 177,
   "metadata": {},
   "outputs": [],
   "source": [
    "# Removendo coluna contato pois ela não tem dados que são interessantes para o estudo\n",
    "df_xls_clear = df_xls_clear.drop('contato', axis=1)"
   ]
  },
  {
   "cell_type": "markdown",
   "metadata": {},
   "source": [
    "###### Testar"
   ]
  },
  {
   "cell_type": "code",
   "execution_count": 178,
   "metadata": {},
   "outputs": [],
   "source": [
    "# Verificando se o número de colunas do data_frame limpo é 2 colunas menor que o original.\n",
    "assert df_xls_clear.shape[1] == numero_col_xls - 2"
   ]
  },
  {
   "cell_type": "markdown",
   "metadata": {},
   "source": [
    "### Visualizando e Gravando os dados\n",
    "Para finalizar vamos visualizar como ficará a nova planilha e vamos salva-la em um novo arquivo xls com os dados limpos."
   ]
  },
  {
   "cell_type": "code",
   "execution_count": 179,
   "metadata": {},
   "outputs": [
    {
     "data": {
      "text/html": [
       "<div>\n",
       "<style scoped>\n",
       "    .dataframe tbody tr th:only-of-type {\n",
       "        vertical-align: middle;\n",
       "    }\n",
       "\n",
       "    .dataframe tbody tr th {\n",
       "        vertical-align: top;\n",
       "    }\n",
       "\n",
       "    .dataframe thead th {\n",
       "        text-align: right;\n",
       "    }\n",
       "</style>\n",
       "<table border=\"1\" class=\"dataframe\">\n",
       "  <thead>\n",
       "    <tr style=\"text-align: right;\">\n",
       "      <th></th>\n",
       "      <th>idade</th>\n",
       "      <th>emprego</th>\n",
       "      <th>estado_civil</th>\n",
       "      <th>escolaridade</th>\n",
       "      <th>saldo_em_conta</th>\n",
       "      <th>casa_própria</th>\n",
       "      <th>empréstimos_ativos</th>\n",
       "    </tr>\n",
       "  </thead>\n",
       "  <tbody>\n",
       "    <tr>\n",
       "      <th>0</th>\n",
       "      <td>58</td>\n",
       "      <td>administrativo</td>\n",
       "      <td>casado</td>\n",
       "      <td>Ensino superior completo</td>\n",
       "      <td>2143.0</td>\n",
       "      <td>sim</td>\n",
       "      <td>não</td>\n",
       "    </tr>\n",
       "    <tr>\n",
       "      <th>1</th>\n",
       "      <td>44</td>\n",
       "      <td>técnico</td>\n",
       "      <td>solteiro</td>\n",
       "      <td>Ensino médio completo</td>\n",
       "      <td>29.0</td>\n",
       "      <td>sim</td>\n",
       "      <td>não</td>\n",
       "    </tr>\n",
       "  </tbody>\n",
       "</table>\n",
       "</div>"
      ],
      "text/plain": [
       "   idade         emprego estado_civil              escolaridade  \\\n",
       "0     58  administrativo       casado  Ensino superior completo   \n",
       "1     44         técnico     solteiro     Ensino médio completo   \n",
       "\n",
       "   saldo_em_conta casa_própria empréstimos_ativos  \n",
       "0          2143.0          sim                não  \n",
       "1            29.0          sim                não  "
      ]
     },
     "execution_count": 179,
     "metadata": {},
     "output_type": "execute_result"
    }
   ],
   "source": [
    "# Visualizando...\n",
    "df_xls_clear.head(2)"
   ]
  },
  {
   "cell_type": "code",
   "execution_count": 180,
   "metadata": {},
   "outputs": [],
   "source": [
    "df_xls_clear.to_excel('1801_D0046_RA1_EXER01_CLEAN.xlsx')"
   ]
  },
  {
   "cell_type": "markdown",
   "metadata": {},
   "source": [
    "### AF - Exercício: Agrupamento de dados de diferentes fontes em uma única planilha\n",
    "Agora que você já organizou a planilha para avaliação de crédito, o departamento de Recursos Humanos enviou outro arquivo, desta vez em CSV, contendo novas informações sobre os correntistas. Esse arquivo consta em anexo. Sua tarefa agora é incorporar esses novos dados à tabela antiga.\n",
    "\n",
    "Lembre-se: cada linha representa um evento, ou seja, todos os valores contidos na linha são referentes ao mesmo indivíduo; logo, você deve determinar se existe uma maneira de vincular os dois arquivos, mantendo a consistência e evitando características repetidas.\n",
    "\n",
    " Ao finalizar esta análise preliminar, clique no botão Não realizado, tenha acesso ao gabarito e faça a autocorreção do exercício."
   ]
  },
  {
   "cell_type": "code",
   "execution_count": 181,
   "metadata": {},
   "outputs": [],
   "source": [
    "# Lendo o arquivo CSV e convertendo-o em um dataframe.\n",
    "# obs: o arquivo não foi lido corretamente na códificação utf-8, \n",
    "# por este motivo realizei a leitura no padrão windows-1252.\n",
    "\n",
    "df_csv = pd.read_csv('xid-7137291_1.csv', encoding='cp1252')"
   ]
  },
  {
   "cell_type": "code",
   "execution_count": 182,
   "metadata": {},
   "outputs": [
    {
     "data": {
      "text/html": [
       "<div>\n",
       "<style scoped>\n",
       "    .dataframe tbody tr th:only-of-type {\n",
       "        vertical-align: middle;\n",
       "    }\n",
       "\n",
       "    .dataframe tbody tr th {\n",
       "        vertical-align: top;\n",
       "    }\n",
       "\n",
       "    .dataframe thead th {\n",
       "        text-align: right;\n",
       "    }\n",
       "</style>\n",
       "<table border=\"1\" class=\"dataframe\">\n",
       "  <thead>\n",
       "    <tr style=\"text-align: right;\">\n",
       "      <th></th>\n",
       "      <th>Idade</th>\n",
       "      <th>Emprego</th>\n",
       "      <th>Carro próprio</th>\n",
       "      <th>Correntista desde</th>\n",
       "      <th>Ano último registro em carteira</th>\n",
       "    </tr>\n",
       "  </thead>\n",
       "  <tbody>\n",
       "    <tr>\n",
       "      <th>0</th>\n",
       "      <td>58</td>\n",
       "      <td>administrativo</td>\n",
       "      <td>não</td>\n",
       "      <td>1997</td>\n",
       "      <td>2018</td>\n",
       "    </tr>\n",
       "    <tr>\n",
       "      <th>8</th>\n",
       "      <td>58</td>\n",
       "      <td>aposentado</td>\n",
       "      <td>sim</td>\n",
       "      <td>1981</td>\n",
       "      <td>1981</td>\n",
       "    </tr>\n",
       "    <tr>\n",
       "      <th>6</th>\n",
       "      <td>28</td>\n",
       "      <td>administrativo</td>\n",
       "      <td>não</td>\n",
       "      <td>2010</td>\n",
       "      <td>2014</td>\n",
       "    </tr>\n",
       "    <tr>\n",
       "      <th>2</th>\n",
       "      <td>33</td>\n",
       "      <td>empresário</td>\n",
       "      <td>sim</td>\n",
       "      <td>1998</td>\n",
       "      <td>1998</td>\n",
       "    </tr>\n",
       "    <tr>\n",
       "      <th>1</th>\n",
       "      <td>44</td>\n",
       "      <td>técnico</td>\n",
       "      <td>não</td>\n",
       "      <td>2001</td>\n",
       "      <td>2017</td>\n",
       "    </tr>\n",
       "  </tbody>\n",
       "</table>\n",
       "</div>"
      ],
      "text/plain": [
       "   Idade         Emprego Carro próprio  Correntista desde  \\\n",
       "0     58  administrativo           não               1997   \n",
       "8     58      aposentado           sim               1981   \n",
       "6     28  administrativo           não               2010   \n",
       "2     33      empresário           sim               1998   \n",
       "1     44         técnico           não               2001   \n",
       "\n",
       "   Ano último registro em carteira  \n",
       "0                             2018  \n",
       "8                             1981  \n",
       "6                             2014  \n",
       "2                             1998  \n",
       "1                             2017  "
      ]
     },
     "execution_count": 182,
     "metadata": {},
     "output_type": "execute_result"
    }
   ],
   "source": [
    "df_csv.sample(5)"
   ]
  },
  {
   "cell_type": "code",
   "execution_count": 183,
   "metadata": {},
   "outputs": [
    {
     "name": "stdout",
     "output_type": "stream",
     "text": [
      "<class 'pandas.core.frame.DataFrame'>\n",
      "RangeIndex: 9 entries, 0 to 8\n",
      "Data columns (total 5 columns):\n",
      "Idade                              9 non-null int64\n",
      "Emprego                            9 non-null object\n",
      "Carro próprio                      9 non-null object\n",
      "Correntista desde                  9 non-null int64\n",
      "Ano último registro em carteira    9 non-null int64\n",
      "dtypes: int64(3), object(2)\n",
      "memory usage: 440.0+ bytes\n"
     ]
    }
   ],
   "source": [
    "df_csv.info()"
   ]
  },
  {
   "cell_type": "markdown",
   "metadata": {},
   "source": [
    "### Limpando os dados"
   ]
  },
  {
   "cell_type": "code",
   "execution_count": 184,
   "metadata": {},
   "outputs": [],
   "source": [
    "# Realizando copia do dataframe\n",
    "df_csv_clear = df_csv.copy()"
   ]
  },
  {
   "cell_type": "markdown",
   "metadata": {},
   "source": [
    "###### Definir\n",
    "Nomes das colunas com espaços e letras maiuscúlas.\n",
    "- remover os espaços nos campos que estão nesta situação\n",
    "- padronizar todos os nomes de colunas em caixa baixa."
   ]
  },
  {
   "cell_type": "markdown",
   "metadata": {},
   "source": [
    "###### Codificar"
   ]
  },
  {
   "cell_type": "code",
   "execution_count": 185,
   "metadata": {},
   "outputs": [],
   "source": [
    "df_csv_clear.rename(columns=lambda x: x.replace(' ', '_'), inplace=True)\n",
    "df_csv_clear.rename(columns=lambda x: x.lower(), inplace=True)"
   ]
  },
  {
   "cell_type": "markdown",
   "metadata": {},
   "source": [
    "###### Testar"
   ]
  },
  {
   "cell_type": "code",
   "execution_count": 186,
   "metadata": {},
   "outputs": [],
   "source": [
    "# Testando cada coluna do dataframe e procura com um espaço, o 'contains' retorna uma strin de bools com os resultados. \n",
    "df_csv_clear.head(2)\n",
    "chk_array = df_csv_clear.columns.str.contains(' ')\n",
    "for item in chk_array:\n",
    "    assert item == False"
   ]
  },
  {
   "cell_type": "markdown",
   "metadata": {},
   "source": [
    "### Realizar o merge entre os dois dataframes `df_xls` e `df_csv`"
   ]
  },
  {
   "cell_type": "code",
   "execution_count": 191,
   "metadata": {},
   "outputs": [],
   "source": [
    "df_new = pd.concat([df_csv_clear, df_xls_clear],axis=1)"
   ]
  },
  {
   "cell_type": "markdown",
   "metadata": {},
   "source": [
    "### Visualizando e Gravando os dados\n",
    "Para finalizar vamos visualizar como ficará a nova planilha e vamos salva-la em um novo arquivo xls com os dados limpos."
   ]
  },
  {
   "cell_type": "code",
   "execution_count": 192,
   "metadata": {},
   "outputs": [
    {
     "data": {
      "text/html": [
       "<div>\n",
       "<style scoped>\n",
       "    .dataframe tbody tr th:only-of-type {\n",
       "        vertical-align: middle;\n",
       "    }\n",
       "\n",
       "    .dataframe tbody tr th {\n",
       "        vertical-align: top;\n",
       "    }\n",
       "\n",
       "    .dataframe thead th {\n",
       "        text-align: right;\n",
       "    }\n",
       "</style>\n",
       "<table border=\"1\" class=\"dataframe\">\n",
       "  <thead>\n",
       "    <tr style=\"text-align: right;\">\n",
       "      <th></th>\n",
       "      <th>idade</th>\n",
       "      <th>emprego</th>\n",
       "      <th>carro_próprio</th>\n",
       "      <th>correntista_desde</th>\n",
       "      <th>ano_último_registro_em_carteira</th>\n",
       "      <th>idade</th>\n",
       "      <th>emprego</th>\n",
       "      <th>estado_civil</th>\n",
       "      <th>escolaridade</th>\n",
       "      <th>saldo_em_conta</th>\n",
       "      <th>casa_própria</th>\n",
       "      <th>empréstimos_ativos</th>\n",
       "    </tr>\n",
       "  </thead>\n",
       "  <tbody>\n",
       "    <tr>\n",
       "      <th>0</th>\n",
       "      <td>58</td>\n",
       "      <td>administrativo</td>\n",
       "      <td>não</td>\n",
       "      <td>1997</td>\n",
       "      <td>2018</td>\n",
       "      <td>58</td>\n",
       "      <td>administrativo</td>\n",
       "      <td>casado</td>\n",
       "      <td>Ensino superior completo</td>\n",
       "      <td>2143.0</td>\n",
       "      <td>sim</td>\n",
       "      <td>não</td>\n",
       "    </tr>\n",
       "    <tr>\n",
       "      <th>1</th>\n",
       "      <td>44</td>\n",
       "      <td>técnico</td>\n",
       "      <td>não</td>\n",
       "      <td>2001</td>\n",
       "      <td>2017</td>\n",
       "      <td>44</td>\n",
       "      <td>técnico</td>\n",
       "      <td>solteiro</td>\n",
       "      <td>Ensino médio completo</td>\n",
       "      <td>29.0</td>\n",
       "      <td>sim</td>\n",
       "      <td>não</td>\n",
       "    </tr>\n",
       "    <tr>\n",
       "      <th>2</th>\n",
       "      <td>33</td>\n",
       "      <td>empresário</td>\n",
       "      <td>sim</td>\n",
       "      <td>1998</td>\n",
       "      <td>1998</td>\n",
       "      <td>33</td>\n",
       "      <td>empresário</td>\n",
       "      <td>casado</td>\n",
       "      <td>Ensino médio completo</td>\n",
       "      <td>2.0</td>\n",
       "      <td>sim</td>\n",
       "      <td>sim</td>\n",
       "    </tr>\n",
       "    <tr>\n",
       "      <th>3</th>\n",
       "      <td>47</td>\n",
       "      <td>administrativo</td>\n",
       "      <td>sim</td>\n",
       "      <td>2014</td>\n",
       "      <td>2014</td>\n",
       "      <td>47</td>\n",
       "      <td>blue-collar</td>\n",
       "      <td>casado</td>\n",
       "      <td>desconhecido</td>\n",
       "      <td>1506.0</td>\n",
       "      <td>sim</td>\n",
       "      <td>não</td>\n",
       "    </tr>\n",
       "    <tr>\n",
       "      <th>4</th>\n",
       "      <td>33</td>\n",
       "      <td>desconhecido</td>\n",
       "      <td>não</td>\n",
       "      <td>1989</td>\n",
       "      <td>2013</td>\n",
       "      <td>33</td>\n",
       "      <td>desconhecido</td>\n",
       "      <td>solteiro</td>\n",
       "      <td>desconhecido</td>\n",
       "      <td>1.0</td>\n",
       "      <td>não</td>\n",
       "      <td>não</td>\n",
       "    </tr>\n",
       "    <tr>\n",
       "      <th>5</th>\n",
       "      <td>35</td>\n",
       "      <td>administrativo</td>\n",
       "      <td>sim</td>\n",
       "      <td>2010</td>\n",
       "      <td>2010</td>\n",
       "      <td>35</td>\n",
       "      <td>administrativo</td>\n",
       "      <td>casado</td>\n",
       "      <td>Ensino superior completo</td>\n",
       "      <td>231.0</td>\n",
       "      <td>sim</td>\n",
       "      <td>não</td>\n",
       "    </tr>\n",
       "    <tr>\n",
       "      <th>6</th>\n",
       "      <td>28</td>\n",
       "      <td>administrativo</td>\n",
       "      <td>não</td>\n",
       "      <td>2010</td>\n",
       "      <td>2014</td>\n",
       "      <td>28</td>\n",
       "      <td>administrativo</td>\n",
       "      <td>solteiro</td>\n",
       "      <td>Ensino superior completo</td>\n",
       "      <td>447.0</td>\n",
       "      <td>sim</td>\n",
       "      <td>sim</td>\n",
       "    </tr>\n",
       "    <tr>\n",
       "      <th>7</th>\n",
       "      <td>42</td>\n",
       "      <td>empresário</td>\n",
       "      <td>sim</td>\n",
       "      <td>2002</td>\n",
       "      <td>1996</td>\n",
       "      <td>42</td>\n",
       "      <td>empresário</td>\n",
       "      <td>divorciado</td>\n",
       "      <td>Ensino superior completo</td>\n",
       "      <td>2.0</td>\n",
       "      <td>sim</td>\n",
       "      <td>não</td>\n",
       "    </tr>\n",
       "    <tr>\n",
       "      <th>8</th>\n",
       "      <td>58</td>\n",
       "      <td>aposentado</td>\n",
       "      <td>sim</td>\n",
       "      <td>1981</td>\n",
       "      <td>1981</td>\n",
       "      <td>58</td>\n",
       "      <td>aposentado</td>\n",
       "      <td>casado</td>\n",
       "      <td>Ensino fundamental completo</td>\n",
       "      <td>121.0</td>\n",
       "      <td>sim</td>\n",
       "      <td>não</td>\n",
       "    </tr>\n",
       "  </tbody>\n",
       "</table>\n",
       "</div>"
      ],
      "text/plain": [
       "   idade         emprego carro_próprio  correntista_desde  \\\n",
       "0     58  administrativo           não               1997   \n",
       "1     44         técnico           não               2001   \n",
       "2     33      empresário           sim               1998   \n",
       "3     47  administrativo           sim               2014   \n",
       "4     33    desconhecido           não               1989   \n",
       "5     35  administrativo           sim               2010   \n",
       "6     28  administrativo           não               2010   \n",
       "7     42      empresário           sim               2002   \n",
       "8     58      aposentado           sim               1981   \n",
       "\n",
       "   ano_último_registro_em_carteira  idade         emprego estado_civil  \\\n",
       "0                             2018     58  administrativo       casado   \n",
       "1                             2017     44         técnico     solteiro   \n",
       "2                             1998     33      empresário       casado   \n",
       "3                             2014     47     blue-collar       casado   \n",
       "4                             2013     33    desconhecido     solteiro   \n",
       "5                             2010     35  administrativo       casado   \n",
       "6                             2014     28  administrativo     solteiro   \n",
       "7                             1996     42      empresário   divorciado   \n",
       "8                             1981     58      aposentado       casado   \n",
       "\n",
       "                  escolaridade  saldo_em_conta casa_própria empréstimos_ativos  \n",
       "0     Ensino superior completo          2143.0          sim                não  \n",
       "1        Ensino médio completo            29.0          sim                não  \n",
       "2        Ensino médio completo             2.0          sim                sim  \n",
       "3                 desconhecido          1506.0          sim                não  \n",
       "4                 desconhecido             1.0          não                não  \n",
       "5     Ensino superior completo           231.0          sim                não  \n",
       "6     Ensino superior completo           447.0          sim                sim  \n",
       "7     Ensino superior completo             2.0          sim                não  \n",
       "8  Ensino fundamental completo           121.0          sim                não  "
      ]
     },
     "execution_count": 192,
     "metadata": {},
     "output_type": "execute_result"
    }
   ],
   "source": [
    "# Visualizando...\n",
    "df_new"
   ]
  },
  {
   "cell_type": "code",
   "execution_count": 194,
   "metadata": {},
   "outputs": [],
   "source": [
    "df_new.to_excel('1801-Fund-Ing-Anal-Clear.xlsx')"
   ]
  }
 ],
 "metadata": {
  "kernelspec": {
   "display_name": "Python 3",
   "language": "python",
   "name": "python3"
  },
  "language_info": {
   "codemirror_mode": {
    "name": "ipython",
    "version": 3
   },
   "file_extension": ".py",
   "mimetype": "text/x-python",
   "name": "python",
   "nbconvert_exporter": "python",
   "pygments_lexer": "ipython3",
   "version": "3.6.5"
  }
 },
 "nbformat": 4,
 "nbformat_minor": 2
}
