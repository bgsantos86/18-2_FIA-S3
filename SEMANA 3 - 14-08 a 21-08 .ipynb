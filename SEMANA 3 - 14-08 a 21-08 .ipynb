{
 "cells": [
  {
   "cell_type": "code",
   "execution_count": 3,
   "metadata": {},
   "outputs": [],
   "source": [
    "import pandas as pd"
   ]
  },
  {
   "cell_type": "markdown",
   "metadata": {},
   "source": [
    "### AF - Exercício: Organização de dados para aplicação de algoritmos de aprendizagem de máquina\n",
    "Bancos e operadoras de cartões de crédito estão entre os primeiros a usar a aprendizagem de máquina. Eles costumam usar a tecnologia para identificar fraudes, liberações e crédito, oferecer produtos, entre outros.\n",
    "Imagine que você foi contratado para implementar a análise de dados em um grande banco nacional. O objetivo deste é analisar os dados para conceder ou não crédito para os correntistas. Para tanto, é preciso analisar as principais características dos correntistas, como idade, profissão, estado civil, entre outras.\n",
    "\n",
    "A coleta de dados no machine learning é realizada a partir da união de diferentes fontes de dados (diferentes planilhas, bases em CSV, Json, SQL, entre outros) em uma única base de dados “minerável”.\n",
    "\n",
    "Neste caso, os dados foram coletados e enviados para você, mas estão todos bagunçados. O primeiro passo é determinar um padrão de organização para eles, sendo possível aplicar algoritmos de aprendizagem de máquina. Essa organização pode ser aplicada para unir diferentes fontes de dados."
   ]
  },
  {
   "cell_type": "markdown",
   "metadata": {},
   "source": [
    "#### Obtendo os dados"
   ]
  },
  {
   "cell_type": "code",
   "execution_count": 54,
   "metadata": {},
   "outputs": [
    {
     "data": {
      "text/html": [
       "<div>\n",
       "<style scoped>\n",
       "    .dataframe tbody tr th:only-of-type {\n",
       "        vertical-align: middle;\n",
       "    }\n",
       "\n",
       "    .dataframe tbody tr th {\n",
       "        vertical-align: top;\n",
       "    }\n",
       "\n",
       "    .dataframe thead th {\n",
       "        text-align: right;\n",
       "    }\n",
       "</style>\n",
       "<table border=\"1\" class=\"dataframe\">\n",
       "  <thead>\n",
       "    <tr style=\"text-align: right;\">\n",
       "      <th>Idade</th>\n",
       "      <th>Emprego</th>\n",
       "      <th>Estado civil</th>\n",
       "      <th>Escolaridade</th>\n",
       "      <th>Escolaridade</th>\n",
       "      <th>Saldo em conta</th>\n",
       "      <th>Casa própria</th>\n",
       "      <th>Empréstimos ativos</th>\n",
       "      <th>Contato</th>\n",
       "    </tr>\n",
       "  </thead>\n",
       "  <tbody>\n",
       "    <tr>\n",
       "      <th>58</th>\n",
       "      <td>administrativo</td>\n",
       "      <td>casado</td>\n",
       "      <td>Ensino superior completo</td>\n",
       "      <td>NaN</td>\n",
       "      <td>2143</td>\n",
       "      <td>sim</td>\n",
       "      <td>não</td>\n",
       "      <td>desconhecido</td>\n",
       "    </tr>\n",
       "    <tr>\n",
       "      <th>44</th>\n",
       "      <td>técnico</td>\n",
       "      <td>solteiro</td>\n",
       "      <td>Ensino médio completo</td>\n",
       "      <td>NaN</td>\n",
       "      <td>29</td>\n",
       "      <td>sim</td>\n",
       "      <td>não</td>\n",
       "      <td>desconhecido</td>\n",
       "    </tr>\n",
       "    <tr>\n",
       "      <th>33</th>\n",
       "      <td>empresário</td>\n",
       "      <td>casado</td>\n",
       "      <td>Ensino médio completo</td>\n",
       "      <td>NaN</td>\n",
       "      <td>2</td>\n",
       "      <td>sim</td>\n",
       "      <td>sim</td>\n",
       "      <td>desconhecido</td>\n",
       "    </tr>\n",
       "    <tr>\n",
       "      <th>47</th>\n",
       "      <td>blue-collar</td>\n",
       "      <td>casado</td>\n",
       "      <td>desconhecido</td>\n",
       "      <td>NaN</td>\n",
       "      <td>1506</td>\n",
       "      <td>sim</td>\n",
       "      <td>não</td>\n",
       "      <td>desconhecido</td>\n",
       "    </tr>\n",
       "    <tr>\n",
       "      <th>33.1</th>\n",
       "      <td>desconhecido</td>\n",
       "      <td>solteiro</td>\n",
       "      <td>desconhecido</td>\n",
       "      <td>NaN</td>\n",
       "      <td>1</td>\n",
       "      <td>não</td>\n",
       "      <td>não</td>\n",
       "      <td>desconhecido</td>\n",
       "    </tr>\n",
       "    <tr>\n",
       "      <th>35</th>\n",
       "      <td>administrativo</td>\n",
       "      <td>casado</td>\n",
       "      <td>Ensino superior completo</td>\n",
       "      <td>NaN</td>\n",
       "      <td>231</td>\n",
       "      <td>sim</td>\n",
       "      <td>não</td>\n",
       "      <td>desconhecido</td>\n",
       "    </tr>\n",
       "    <tr>\n",
       "      <th>28</th>\n",
       "      <td>administrativo</td>\n",
       "      <td>solteiro</td>\n",
       "      <td>Ensino superior completo</td>\n",
       "      <td>NaN</td>\n",
       "      <td>447</td>\n",
       "      <td>sim</td>\n",
       "      <td>sim</td>\n",
       "      <td>desconhecido</td>\n",
       "    </tr>\n",
       "    <tr>\n",
       "      <th>42</th>\n",
       "      <td>empresário</td>\n",
       "      <td>divorciado</td>\n",
       "      <td>Ensino superior completo</td>\n",
       "      <td>NaN</td>\n",
       "      <td>2</td>\n",
       "      <td>sim</td>\n",
       "      <td>não</td>\n",
       "      <td>desconhecido</td>\n",
       "    </tr>\n",
       "    <tr>\n",
       "      <th>58.1</th>\n",
       "      <td>aposentado</td>\n",
       "      <td>casado</td>\n",
       "      <td>Ensino fundamental completo</td>\n",
       "      <td>NaN</td>\n",
       "      <td>121</td>\n",
       "      <td>sim</td>\n",
       "      <td>não</td>\n",
       "      <td>desconhecido</td>\n",
       "    </tr>\n",
       "  </tbody>\n",
       "</table>\n",
       "</div>"
      ],
      "text/plain": [
       "Idade         Emprego Estado civil                 Escolaridade Escolaridade  \\\n",
       "58     administrativo       casado     Ensino superior completo          NaN   \n",
       "44            técnico     solteiro        Ensino médio completo          NaN   \n",
       "33         empresário       casado        Ensino médio completo          NaN   \n",
       "47        blue-collar       casado                 desconhecido          NaN   \n",
       "33.1     desconhecido     solteiro                 desconhecido          NaN   \n",
       "35     administrativo       casado     Ensino superior completo          NaN   \n",
       "28     administrativo     solteiro     Ensino superior completo          NaN   \n",
       "42         empresário   divorciado     Ensino superior completo          NaN   \n",
       "58.1       aposentado       casado  Ensino fundamental completo          NaN   \n",
       "\n",
       "Idade Saldo em conta Casa própria Empréstimos ativos       Contato  \n",
       "58              2143          sim                não  desconhecido  \n",
       "44                29          sim                não  desconhecido  \n",
       "33                 2          sim                sim  desconhecido  \n",
       "47              1506          sim                não  desconhecido  \n",
       "33.1               1          não                não  desconhecido  \n",
       "35               231          sim                não  desconhecido  \n",
       "28               447          sim                sim  desconhecido  \n",
       "42                 2          sim                não  desconhecido  \n",
       "58.1             121          sim                não  desconhecido  "
      ]
     },
     "execution_count": 54,
     "metadata": {},
     "output_type": "execute_result"
    }
   ],
   "source": [
    "# Importando planilha excel disponibilizada e fazendo a transposição dele para um formato com os headers nas colunas \n",
    "# ao invés de linhas para facilitar a visualização.\n",
    "\n",
    "# Definindo um dataframe com o nome de df.\n",
    "\n",
    "df_xls = pd.read_excel('1801_D0046_RA1_EXER01_REV.xlsx', index_col=[0]).transpose()\n",
    "df_xls"
   ]
  },
  {
   "cell_type": "markdown",
   "metadata": {},
   "source": [
    "### AF - Exercício: Agrupamento de dados de diferentes fontes em uma única planilha\n",
    "Agora que você já organizou a planilha para avaliação de crédito, o departamento de Recursos Humanos enviou outro arquivo, desta vez em CSV, contendo novas informações sobre os correntistas. Esse arquivo consta em anexo. Sua tarefa agora é incorporar esses novos dados à tabela antiga.\n",
    "\n",
    "Lembre-se: cada linha representa um evento, ou seja, todos os valores contidos na linha são referentes ao mesmo indivíduo; logo, você deve determinar se existe uma maneira de vincular os dois arquivos, mantendo a consistência e evitando características repetidas.\n",
    "\n",
    " Ao finalizar esta análise preliminar, clique no botão Não realizado, tenha acesso ao gabarito e faça a autocorreção do exercício."
   ]
  },
  {
   "cell_type": "code",
   "execution_count": 18,
   "metadata": {},
   "outputs": [],
   "source": [
    "# Lendo o arquivo CSV e convertendo-o em um dataframe.\n",
    "# obs: o arquivo não foi lido corretamente na códificação utf-8, \n",
    "# por este motivo realizei a leitura no padrão windows-1252.\n",
    "\n",
    "df_csv = pd.read_csv('xid-7137291_1.csv', encoding='cp1252')"
   ]
  },
  {
   "cell_type": "markdown",
   "metadata": {},
   "source": [
    "#### Acessando os dados"
   ]
  },
  {
   "cell_type": "markdown",
   "metadata": {},
   "source": [
    "Pelo fato do dataset ser pequeno fazer as avaliações sobre o que está errado visualmente."
   ]
  },
  {
   "cell_type": "code",
   "execution_count": 20,
   "metadata": {},
   "outputs": [
    {
     "data": {
      "text/html": [
       "<div>\n",
       "<style scoped>\n",
       "    .dataframe tbody tr th:only-of-type {\n",
       "        vertical-align: middle;\n",
       "    }\n",
       "\n",
       "    .dataframe tbody tr th {\n",
       "        vertical-align: top;\n",
       "    }\n",
       "\n",
       "    .dataframe thead th {\n",
       "        text-align: right;\n",
       "    }\n",
       "</style>\n",
       "<table border=\"1\" class=\"dataframe\">\n",
       "  <thead>\n",
       "    <tr style=\"text-align: right;\">\n",
       "      <th>Idade</th>\n",
       "      <th>Emprego</th>\n",
       "      <th>Estado civil</th>\n",
       "      <th>Escolaridade</th>\n",
       "      <th>Escolaridade</th>\n",
       "      <th>Saldo em conta</th>\n",
       "      <th>Casa própria</th>\n",
       "      <th>Empréstimos ativos</th>\n",
       "      <th>Contato</th>\n",
       "    </tr>\n",
       "  </thead>\n",
       "  <tbody>\n",
       "    <tr>\n",
       "      <th>58</th>\n",
       "      <td>administrativo</td>\n",
       "      <td>casado</td>\n",
       "      <td>Ensino superior completo</td>\n",
       "      <td>NaN</td>\n",
       "      <td>2143</td>\n",
       "      <td>sim</td>\n",
       "      <td>não</td>\n",
       "      <td>desconhecido</td>\n",
       "    </tr>\n",
       "    <tr>\n",
       "      <th>44</th>\n",
       "      <td>técnico</td>\n",
       "      <td>solteiro</td>\n",
       "      <td>Ensino médio completo</td>\n",
       "      <td>NaN</td>\n",
       "      <td>29</td>\n",
       "      <td>sim</td>\n",
       "      <td>não</td>\n",
       "      <td>desconhecido</td>\n",
       "    </tr>\n",
       "    <tr>\n",
       "      <th>33</th>\n",
       "      <td>empresário</td>\n",
       "      <td>casado</td>\n",
       "      <td>Ensino médio completo</td>\n",
       "      <td>NaN</td>\n",
       "      <td>2</td>\n",
       "      <td>sim</td>\n",
       "      <td>sim</td>\n",
       "      <td>desconhecido</td>\n",
       "    </tr>\n",
       "    <tr>\n",
       "      <th>47</th>\n",
       "      <td>blue-collar</td>\n",
       "      <td>casado</td>\n",
       "      <td>desconhecido</td>\n",
       "      <td>NaN</td>\n",
       "      <td>1506</td>\n",
       "      <td>sim</td>\n",
       "      <td>não</td>\n",
       "      <td>desconhecido</td>\n",
       "    </tr>\n",
       "    <tr>\n",
       "      <th>33.1</th>\n",
       "      <td>desconhecido</td>\n",
       "      <td>solteiro</td>\n",
       "      <td>desconhecido</td>\n",
       "      <td>NaN</td>\n",
       "      <td>1</td>\n",
       "      <td>não</td>\n",
       "      <td>não</td>\n",
       "      <td>desconhecido</td>\n",
       "    </tr>\n",
       "    <tr>\n",
       "      <th>35</th>\n",
       "      <td>administrativo</td>\n",
       "      <td>casado</td>\n",
       "      <td>Ensino superior completo</td>\n",
       "      <td>NaN</td>\n",
       "      <td>231</td>\n",
       "      <td>sim</td>\n",
       "      <td>não</td>\n",
       "      <td>desconhecido</td>\n",
       "    </tr>\n",
       "    <tr>\n",
       "      <th>28</th>\n",
       "      <td>administrativo</td>\n",
       "      <td>solteiro</td>\n",
       "      <td>Ensino superior completo</td>\n",
       "      <td>NaN</td>\n",
       "      <td>447</td>\n",
       "      <td>sim</td>\n",
       "      <td>sim</td>\n",
       "      <td>desconhecido</td>\n",
       "    </tr>\n",
       "    <tr>\n",
       "      <th>42</th>\n",
       "      <td>empresário</td>\n",
       "      <td>divorciado</td>\n",
       "      <td>Ensino superior completo</td>\n",
       "      <td>NaN</td>\n",
       "      <td>2</td>\n",
       "      <td>sim</td>\n",
       "      <td>não</td>\n",
       "      <td>desconhecido</td>\n",
       "    </tr>\n",
       "    <tr>\n",
       "      <th>58.1</th>\n",
       "      <td>aposentado</td>\n",
       "      <td>casado</td>\n",
       "      <td>Ensino fundamental completo</td>\n",
       "      <td>NaN</td>\n",
       "      <td>121</td>\n",
       "      <td>sim</td>\n",
       "      <td>não</td>\n",
       "      <td>desconhecido</td>\n",
       "    </tr>\n",
       "  </tbody>\n",
       "</table>\n",
       "</div>"
      ],
      "text/plain": [
       "Idade         Emprego Estado civil                 Escolaridade Escolaridade  \\\n",
       "58     administrativo       casado     Ensino superior completo          NaN   \n",
       "44            técnico     solteiro        Ensino médio completo          NaN   \n",
       "33         empresário       casado        Ensino médio completo          NaN   \n",
       "47        blue-collar       casado                 desconhecido          NaN   \n",
       "33.1     desconhecido     solteiro                 desconhecido          NaN   \n",
       "35     administrativo       casado     Ensino superior completo          NaN   \n",
       "28     administrativo     solteiro     Ensino superior completo          NaN   \n",
       "42         empresário   divorciado     Ensino superior completo          NaN   \n",
       "58.1       aposentado       casado  Ensino fundamental completo          NaN   \n",
       "\n",
       "Idade Saldo em conta Casa própria Empréstimos ativos       Contato  \n",
       "58              2143          sim                não  desconhecido  \n",
       "44                29          sim                não  desconhecido  \n",
       "33                 2          sim                sim  desconhecido  \n",
       "47              1506          sim                não  desconhecido  \n",
       "33.1               1          não                não  desconhecido  \n",
       "35               231          sim                não  desconhecido  \n",
       "28               447          sim                sim  desconhecido  \n",
       "42                 2          sim                não  desconhecido  \n",
       "58.1             121          sim                não  desconhecido  "
      ]
     },
     "execution_count": 20,
     "metadata": {},
     "output_type": "execute_result"
    }
   ],
   "source": [
    "df_xls"
   ]
  },
  {
   "cell_type": "code",
   "execution_count": 21,
   "metadata": {},
   "outputs": [
    {
     "name": "stdout",
     "output_type": "stream",
     "text": [
      "<class 'pandas.core.frame.DataFrame'>\n",
      "Index: 9 entries, 58 to 58.1\n",
      "Data columns (total 8 columns):\n",
      "Emprego               9 non-null object\n",
      "Estado civil          9 non-null object\n",
      "Escolaridade          9 non-null object\n",
      "Escolaridade          0 non-null object\n",
      "Saldo em conta        9 non-null object\n",
      "Casa própria          9 non-null object\n",
      "Empréstimos ativos    9 non-null object\n",
      "Contato               9 non-null object\n",
      "dtypes: object(8)\n",
      "memory usage: 648.0+ bytes\n"
     ]
    }
   ],
   "source": [
    "df_xls.info()"
   ]
  },
  {
   "cell_type": "code",
   "execution_count": 14,
   "metadata": {},
   "outputs": [
    {
     "data": {
      "text/html": [
       "<div>\n",
       "<style scoped>\n",
       "    .dataframe tbody tr th:only-of-type {\n",
       "        vertical-align: middle;\n",
       "    }\n",
       "\n",
       "    .dataframe tbody tr th {\n",
       "        vertical-align: top;\n",
       "    }\n",
       "\n",
       "    .dataframe thead th {\n",
       "        text-align: right;\n",
       "    }\n",
       "</style>\n",
       "<table border=\"1\" class=\"dataframe\">\n",
       "  <thead>\n",
       "    <tr style=\"text-align: right;\">\n",
       "      <th></th>\n",
       "      <th>Idade</th>\n",
       "      <th>Emprego</th>\n",
       "      <th>Carro próprio</th>\n",
       "      <th>Correntista desde</th>\n",
       "      <th>Ano último registro em carteira</th>\n",
       "    </tr>\n",
       "  </thead>\n",
       "  <tbody>\n",
       "    <tr>\n",
       "      <th>0</th>\n",
       "      <td>58</td>\n",
       "      <td>administrativo</td>\n",
       "      <td>não</td>\n",
       "      <td>1997</td>\n",
       "      <td>2018</td>\n",
       "    </tr>\n",
       "    <tr>\n",
       "      <th>1</th>\n",
       "      <td>44</td>\n",
       "      <td>técnico</td>\n",
       "      <td>não</td>\n",
       "      <td>2001</td>\n",
       "      <td>2017</td>\n",
       "    </tr>\n",
       "    <tr>\n",
       "      <th>2</th>\n",
       "      <td>33</td>\n",
       "      <td>empresário</td>\n",
       "      <td>sim</td>\n",
       "      <td>1998</td>\n",
       "      <td>1998</td>\n",
       "    </tr>\n",
       "    <tr>\n",
       "      <th>3</th>\n",
       "      <td>47</td>\n",
       "      <td>administrativo</td>\n",
       "      <td>sim</td>\n",
       "      <td>2014</td>\n",
       "      <td>2014</td>\n",
       "    </tr>\n",
       "    <tr>\n",
       "      <th>4</th>\n",
       "      <td>33</td>\n",
       "      <td>desconhecido</td>\n",
       "      <td>não</td>\n",
       "      <td>1989</td>\n",
       "      <td>2013</td>\n",
       "    </tr>\n",
       "    <tr>\n",
       "      <th>5</th>\n",
       "      <td>35</td>\n",
       "      <td>administrativo</td>\n",
       "      <td>sim</td>\n",
       "      <td>2010</td>\n",
       "      <td>2010</td>\n",
       "    </tr>\n",
       "    <tr>\n",
       "      <th>6</th>\n",
       "      <td>28</td>\n",
       "      <td>administrativo</td>\n",
       "      <td>não</td>\n",
       "      <td>2010</td>\n",
       "      <td>2014</td>\n",
       "    </tr>\n",
       "    <tr>\n",
       "      <th>7</th>\n",
       "      <td>42</td>\n",
       "      <td>empresário</td>\n",
       "      <td>sim</td>\n",
       "      <td>2002</td>\n",
       "      <td>1996</td>\n",
       "    </tr>\n",
       "    <tr>\n",
       "      <th>8</th>\n",
       "      <td>58</td>\n",
       "      <td>aposentado</td>\n",
       "      <td>sim</td>\n",
       "      <td>1981</td>\n",
       "      <td>1981</td>\n",
       "    </tr>\n",
       "  </tbody>\n",
       "</table>\n",
       "</div>"
      ],
      "text/plain": [
       "   Idade         Emprego Carro próprio  Correntista desde  \\\n",
       "0     58  administrativo           não               1997   \n",
       "1     44         técnico           não               2001   \n",
       "2     33      empresário           sim               1998   \n",
       "3     47  administrativo           sim               2014   \n",
       "4     33    desconhecido           não               1989   \n",
       "5     35  administrativo           sim               2010   \n",
       "6     28  administrativo           não               2010   \n",
       "7     42      empresário           sim               2002   \n",
       "8     58      aposentado           sim               1981   \n",
       "\n",
       "   Ano último registro em carteira  \n",
       "0                             2018  \n",
       "1                             2017  \n",
       "2                             1998  \n",
       "3                             2014  \n",
       "4                             2013  \n",
       "5                             2010  \n",
       "6                             2014  \n",
       "7                             1996  \n",
       "8                             1981  "
      ]
     },
     "execution_count": 14,
     "metadata": {},
     "output_type": "execute_result"
    }
   ],
   "source": [
    "df_csv"
   ]
  },
  {
   "cell_type": "code",
   "execution_count": 22,
   "metadata": {},
   "outputs": [
    {
     "name": "stdout",
     "output_type": "stream",
     "text": [
      "<class 'pandas.core.frame.DataFrame'>\n",
      "RangeIndex: 9 entries, 0 to 8\n",
      "Data columns (total 5 columns):\n",
      "Idade                              9 non-null int64\n",
      "Emprego                            9 non-null object\n",
      "Carro próprio                      9 non-null object\n",
      "Correntista desde                  9 non-null int64\n",
      "Ano último registro em carteira    9 non-null int64\n",
      "dtypes: int64(3), object(2)\n",
      "memory usage: 440.0+ bytes\n"
     ]
    }
   ],
   "source": [
    "df_csv.info()"
   ]
  },
  {
   "cell_type": "markdown",
   "metadata": {},
   "source": [
    "##### Problemas de qualidade"
   ]
  },
  {
   "cell_type": "markdown",
   "metadata": {},
   "source": [
    "Problemas de qualidade dos dataframes"
   ]
  },
  {
   "cell_type": "markdown",
   "metadata": {},
   "source": [
    "###### arquivo excel - df_xls"
   ]
  },
  {
   "cell_type": "markdown",
   "metadata": {},
   "source": [
    "- Campos `Idade`, e `Saldo em conta` definidos string;\n",
    "- Algumas `Idades` estão representados como floats;\n",
    "- Coluna `Escolariedade` duplicada;\n",
    "- Coluna `Contato` sem valores úteis."
   ]
  },
  {
   "cell_type": "markdown",
   "metadata": {},
   "source": [
    "###### arquivo csv - df_csv"
   ]
  },
  {
   "cell_type": "markdown",
   "metadata": {},
   "source": [
    "- Não há problemas de qualidade aparente."
   ]
  },
  {
   "cell_type": "markdown",
   "metadata": {},
   "source": [
    "##### Problemas de qualidade"
   ]
  },
  {
   "cell_type": "markdown",
   "metadata": {},
   "source": [
    "- Realizar o merge entre os dois dataframes `df_xls` e `df_csv`"
   ]
  },
  {
   "cell_type": "markdown",
   "metadata": {},
   "source": [
    "#### Limpando os dados"
   ]
  },
  {
   "cell_type": "code",
   "execution_count": 28,
   "metadata": {},
   "outputs": [],
   "source": [
    "# Realizando copias dos dataframes\n",
    "df_xls_clear = df_xls.copy()\n",
    "df_csv_clear = df_csv.copy()"
   ]
  },
  {
   "cell_type": "markdown",
   "metadata": {},
   "source": [
    "###### Define"
   ]
  },
  {
   "cell_type": "markdown",
   "metadata": {},
   "source": [
    "###### df_xls - Dataframe"
   ]
  },
  {
   "cell_type": "markdown",
   "metadata": {},
   "source": [
    "campos `Idade` e `Saldo em conta` com tipos inválidos. \n",
    "- `Idade` transformar em inteiro;\n",
    "- `Saldo em conta` transformar em float."
   ]
  },
  {
   "cell_type": "code",
   "execution_count": 44,
   "metadata": {},
   "outputs": [
    {
     "data": {
      "text/plain": [
       "Index(['Emprego', 'Estado civil', 'Escolaridade', 'Escolaridade',\n",
       "       'Saldo em conta', 'Casa própria', 'Empréstimos ativos', 'Contato'],\n",
       "      dtype='object', name='Idade')"
      ]
     },
     "execution_count": 44,
     "metadata": {},
     "output_type": "execute_result"
    }
   ],
   "source": [
    "df_xls_clear.columns"
   ]
  },
  {
   "cell_type": "markdown",
   "metadata": {},
   "source": [
    "* TO FIX: Ele está listando a coluna Idade como index, e não como coluna, e isso está causando complicacões."
   ]
  },
  {
   "cell_type": "code",
   "execution_count": null,
   "metadata": {},
   "outputs": [],
   "source": []
  }
 ],
 "metadata": {
  "kernelspec": {
   "display_name": "Python 3",
   "language": "python",
   "name": "python3"
  },
  "language_info": {
   "codemirror_mode": {
    "name": "ipython",
    "version": 3
   },
   "file_extension": ".py",
   "mimetype": "text/x-python",
   "name": "python",
   "nbconvert_exporter": "python",
   "pygments_lexer": "ipython3",
   "version": "3.6.5"
  }
 },
 "nbformat": 4,
 "nbformat_minor": 2
}
